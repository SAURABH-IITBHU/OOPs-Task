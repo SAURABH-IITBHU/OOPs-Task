{
 "cells": [
  {
   "cell_type": "markdown",
   "id": "cb43242a-6ab0-49e4-9bf5-03abc0c3a652",
   "metadata": {},
   "source": [
    "## Q1, Create a vehicle class with an init method having instance variables as name_of_vehicle, max_speed and average_of_vehicle."
   ]
  },
  {
   "cell_type": "code",
   "execution_count": 1,
   "id": "4b040486-4a54-46e0-8c3f-b0370150044d",
   "metadata": {},
   "outputs": [],
   "source": [
    "class vehicle:\n",
    "    def __init__(self, name_of_vehicle, max_speed, average_of_vehicle):\n",
    "        self.name_of_vehicle = name_of_vehicle\n",
    "        self.max_speed = max_speed\n",
    "        self.average_of_vehicle = average_of_vehicle"
   ]
  },
  {
   "cell_type": "code",
   "execution_count": 2,
   "id": "56ef8f41-988a-462b-8910-1c209305d878",
   "metadata": {},
   "outputs": [
    {
     "name": "stdout",
     "output_type": "stream",
     "text": [
      "ABC\n"
     ]
    }
   ],
   "source": [
    "vehicle_1 = vehicle('ABC', '100 kmph', '20 kmpl')\n",
    "\n",
    "print(vehicle_1.name_of_vehicle)"
   ]
  },
  {
   "cell_type": "code",
   "execution_count": 3,
   "id": "e12094a9-4f08-4e4f-864e-edf8205fcb95",
   "metadata": {},
   "outputs": [
    {
     "name": "stdout",
     "output_type": "stream",
     "text": [
      "100 kmph\n"
     ]
    }
   ],
   "source": [
    "print(vehicle_1.max_speed)"
   ]
  },
  {
   "cell_type": "code",
   "execution_count": 4,
   "id": "3e61076a-3c9e-4bf5-966c-53e6bdb3f505",
   "metadata": {},
   "outputs": [
    {
     "name": "stdout",
     "output_type": "stream",
     "text": [
      "20 kmpl\n"
     ]
    }
   ],
   "source": [
    "print(vehicle_1.average_of_vehicle)"
   ]
  },
  {
   "cell_type": "code",
   "execution_count": null,
   "id": "16442981-6874-4e00-b5ff-185cf59fa4d2",
   "metadata": {},
   "outputs": [],
   "source": []
  },
  {
   "cell_type": "markdown",
   "id": "2f2aca76-283a-424b-ab4b-da0c56f199f1",
   "metadata": {},
   "source": [
    "## Q2. Create a child class car from the vehicle class created in Que 1, which will inherit the vehicle class. Create a method named seating_capacity which takes capacity as an argument and returns the name ofthe vehicle and its seating capacity."
   ]
  },
  {
   "cell_type": "code",
   "execution_count": 5,
   "id": "362d130b-cfce-477b-bf97-6f3cac7c8ee2",
   "metadata": {},
   "outputs": [],
   "source": [
    "class car(vehicle):\n",
    "    \n",
    "    def seating_capacity(self, capacity):\n",
    "        return f'Name of the vehicle is {self.name_of_vehicle} and\\nseating capacity is {capacity} person.'"
   ]
  },
  {
   "cell_type": "code",
   "execution_count": 6,
   "id": "460f8780-693f-4e29-ab49-1a9796d9d5b6",
   "metadata": {},
   "outputs": [
    {
     "name": "stdout",
     "output_type": "stream",
     "text": [
      "Name of the vehicle is XYZ and\n",
      "seating capacity is 5 person.\n"
     ]
    }
   ],
   "source": [
    "car_1 = car('XYZ', '80 kmph', '20 kmpl')\n",
    "\n",
    "print(car_1.seating_capacity(5))"
   ]
  },
  {
   "cell_type": "code",
   "execution_count": null,
   "id": "fc7c2b71-e98a-47ba-b2de-10431996f86a",
   "metadata": {},
   "outputs": [],
   "source": []
  },
  {
   "cell_type": "markdown",
   "id": "e3561dfe-2057-4f8e-b75e-fb745197a814",
   "metadata": {},
   "source": [
    "## Q3. What is multiple inheritance? Write a python code to demonstrate multiple inheritance."
   ]
  },
  {
   "cell_type": "markdown",
   "id": "6e276e1e-63ef-48e8-8e37-cac41ab978d4",
   "metadata": {},
   "source": [
    "#### Ans. If a class is inheriting the properties of more than one class, its is called multiple inheritance."
   ]
  },
  {
   "cell_type": "code",
   "execution_count": 7,
   "id": "c8ac9b96-760a-4971-8716-c83599ce28a8",
   "metadata": {},
   "outputs": [],
   "source": [
    "class A:\n",
    "    def a(self):\n",
    "        return \"Hello !!\"\n",
    "\n",
    "class B:\n",
    "    def b(self):\n",
    "        return \"How are you ?\"\n",
    "\n",
    "class C(A, B):\n",
    "    def c(self):\n",
    "        return 'How can I help you ?'"
   ]
  },
  {
   "cell_type": "code",
   "execution_count": 8,
   "id": "591f4395-c60e-4029-9cf8-96d83c1d499d",
   "metadata": {},
   "outputs": [
    {
     "name": "stdout",
     "output_type": "stream",
     "text": [
      "Hello !!\n",
      "How are you ?\n",
      "How can I help you ?\n"
     ]
    }
   ],
   "source": [
    "class_C_obj = C()\n",
    "\n",
    "print(class_C_obj.a())\n",
    "\n",
    "print(class_C_obj.b())\n",
    "\n",
    "print(class_C_obj.c())"
   ]
  },
  {
   "cell_type": "code",
   "execution_count": null,
   "id": "d8a59602-e61d-455d-9fea-53da1f81fcb8",
   "metadata": {},
   "outputs": [],
   "source": []
  },
  {
   "cell_type": "markdown",
   "id": "2f6f9feb-637d-4954-b198-6c222f9c9f4f",
   "metadata": {},
   "source": [
    "## Q4. What are getter and setter in python? Create a class and create a getter and a setter method in this class."
   ]
  },
  {
   "cell_type": "markdown",
   "id": "ddf44db1-79d9-4234-a111-762aae5f98b8",
   "metadata": {},
   "source": [
    "#### Ans. Getter and Setter are used for encapsulation in Python\n",
    "#### Getter--> It is method, which allows us to access an attribute in a given class.\n",
    "#### Setter--> It is a method, which allows us to mutate the value of an attribute in a class."
   ]
  },
  {
   "cell_type": "code",
   "execution_count": 9,
   "id": "ef8e186b-e944-4a9d-838d-174cf9b39f12",
   "metadata": {},
   "outputs": [],
   "source": [
    "class gold_price:\n",
    "    def __init__(self, price):\n",
    "        self.__price = price\n",
    "    \n",
    "    # Getter\n",
    "    def get_price(self):\n",
    "        return self.__price\n",
    "    \n",
    "    # Setter\n",
    "    def set_price(self, new_price):\n",
    "        if self.__price>=0:\n",
    "            self.__price = new_price"
   ]
  },
  {
   "cell_type": "code",
   "execution_count": 10,
   "id": "8ad841b8-3b82-4aef-ad6c-58c9be76fca3",
   "metadata": {},
   "outputs": [],
   "source": [
    "g1 = gold_price(50000)"
   ]
  },
  {
   "cell_type": "code",
   "execution_count": 11,
   "id": "b3e05cf9-57e0-4d16-be4e-d25e00cc0d53",
   "metadata": {},
   "outputs": [
    {
     "name": "stdout",
     "output_type": "stream",
     "text": [
      "50000\n"
     ]
    }
   ],
   "source": [
    "print(g1.get_price())"
   ]
  },
  {
   "cell_type": "code",
   "execution_count": 12,
   "id": "b277c120-7f96-4906-95fc-af8f44e76b69",
   "metadata": {},
   "outputs": [],
   "source": [
    "g1.set_price(60000)"
   ]
  },
  {
   "cell_type": "code",
   "execution_count": 13,
   "id": "21c5702b-bc06-4a64-a670-fe65755a0d75",
   "metadata": {},
   "outputs": [
    {
     "name": "stdout",
     "output_type": "stream",
     "text": [
      "60000\n"
     ]
    }
   ],
   "source": [
    "print(g1.get_price())"
   ]
  },
  {
   "cell_type": "code",
   "execution_count": null,
   "id": "10a9468c-4187-4e65-b373-206f1283e251",
   "metadata": {},
   "outputs": [],
   "source": []
  },
  {
   "cell_type": "markdown",
   "id": "f2a75052-d3fd-45fb-ba9a-72ba09629532",
   "metadata": {},
   "source": [
    "## Q5.What is method overriding in python? Write a python code to demonstrate method overriding."
   ]
  },
  {
   "cell_type": "markdown",
   "id": "b8e15261-23a1-4da7-8deb-c41bc8625d32",
   "metadata": {},
   "source": [
    "#### Ans. Method overriding is an ability of any object-oriented programming language that allows a subclass or child class to provide a specific implementation of a method that is already provided by one of its super-classes or parent classes."
   ]
  },
  {
   "cell_type": "code",
   "execution_count": 14,
   "id": "1c11a292-7178-402c-9883-3e53743f464e",
   "metadata": {},
   "outputs": [],
   "source": [
    "class info:\n",
    "    def __init__(self, school, standard):\n",
    "        self.school = school\n",
    "        self.standard = standard\n",
    "    \n",
    "    def game(self):\n",
    "        return 'Cricket'\n",
    "\n",
    "class info_1(info):\n",
    "    \n",
    "    def game(self):\n",
    "        return 'Hockey'"
   ]
  },
  {
   "cell_type": "code",
   "execution_count": 15,
   "id": "d57d9fab-7b55-4980-8398-9bfd42dae49b",
   "metadata": {},
   "outputs": [],
   "source": [
    "obj_info = info('ABC', '10th')\n",
    "\n",
    "obj_info_1 = info_1('ABC', '10th')"
   ]
  },
  {
   "cell_type": "code",
   "execution_count": 16,
   "id": "3716e850-cb6a-4d81-a751-d6a0c2983458",
   "metadata": {},
   "outputs": [
    {
     "name": "stdout",
     "output_type": "stream",
     "text": [
      "ABC\n",
      "Cricket\n"
     ]
    }
   ],
   "source": [
    "print(obj_info.school)\n",
    "print(obj_info.game ())"
   ]
  },
  {
   "cell_type": "code",
   "execution_count": 17,
   "id": "a81add98-261e-4529-b5a8-72eac60dba3e",
   "metadata": {},
   "outputs": [
    {
     "name": "stdout",
     "output_type": "stream",
     "text": [
      "ABC\n",
      "Hockey\n"
     ]
    }
   ],
   "source": [
    "print(obj_info_1.school)\n",
    "print(obj_info_1.game())"
   ]
  },
  {
   "cell_type": "markdown",
   "id": "02c4379a-b0fb-4e4f-bf96-d40314060ac5",
   "metadata": {},
   "source": [
    "#### Here in above example, game() method of 'info' class is over rided in class 'info_1'."
   ]
  }
 ],
 "metadata": {
  "kernelspec": {
   "display_name": "Python 3 (ipykernel)",
   "language": "python",
   "name": "python3"
  },
  "language_info": {
   "codemirror_mode": {
    "name": "ipython",
    "version": 3
   },
   "file_extension": ".py",
   "mimetype": "text/x-python",
   "name": "python",
   "nbconvert_exporter": "python",
   "pygments_lexer": "ipython3",
   "version": "3.10.8"
  }
 },
 "nbformat": 4,
 "nbformat_minor": 5
}
